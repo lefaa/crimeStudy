{
  "nbformat": 4,
  "nbformat_minor": 0,
  "metadata": {
    "colab": {
      "provenance": [],
      "gpuType": "T4",
      "authorship_tag": "ABX9TyMGFY+/Hfde9CyFT+aGq7fO",
      "include_colab_link": true
    },
    "kernelspec": {
      "name": "python3",
      "display_name": "Python 3"
    },
    "language_info": {
      "name": "python"
    },
    "accelerator": "GPU"
  },
  "cells": [
    {
      "cell_type": "markdown",
      "metadata": {
        "id": "view-in-github",
        "colab_type": "text"
      },
      "source": [
        "<a href=\"https://colab.research.google.com/github/lefaa/crimeStudy/blob/main/prepro_gtd_nic_rand.ipynb\" target=\"_parent\"><img src=\"https://colab.research.google.com/assets/colab-badge.svg\" alt=\"Open In Colab\"/></a>"
      ]
    },
    {
      "cell_type": "code",
      "source": [
        "\n",
        "import pandas as pd\n",
        "import os\n",
        "from google.colab import drive\n",
        "drive.mount('/content/drive')\n",
        "os.chdir('/content/drive/My Drive/tacactive')\n",
        "#data = pd.read_csv('gtd_to.csv', parse_dates={\"date\": [\"iday\", \"imonth\", \"iyear\"]},  encoding='latin-1')\n",
        "\n",
        "import pandas as pd\n",
        "import numpy as np\n",
        "import matplotlib.pyplot as plt\n",
        "\n",
        "\n",
        "from sklearn.neighbors import NearestNeighbors\n",
        "import plotly.express as px\n",
        "\n",
        "# FORMING AND FORMATING DATE ken togtel zoukomou engoul ent teaam el tawkoaat\n",
        "df= pd.read_csv('globalterrorismdb.csv', usecols = ['iday','imonth','iyear','intensity','latitude','longitude'],encoding = \"ISO-8859-1\")\n",
        "df.dropna(subset=['iday'], inplace=True)\n",
        "df.dropna(subset=['imonth'], inplace=True)\n",
        "df.dropna(subset=['iyear'], inplace=True)\n",
        "df.loc[df['iday'] == 0, 'iday'] = 15\n",
        "df.loc[df['imonth'] == 0, 'imonth'] = 6\n",
        "df['latitude'].fillna(df['latitude'].median(), inplace=True)\n",
        "df['longitude'].fillna(df['longitude'].median(), inplace=True)\n",
        "df['intensity'] = df['intensity'].fillna(0)\n",
        "df.to_csv('revgtd.csv')\n",
        "\n",
        "\n",
        "\n",
        "\n",
        "#df = df.query('iyear > 1990' )\n",
        "\n",
        "df['intensity']+=1\n",
        "\n",
        "df['type']=5\n",
        "df['cti']=(df['type']*10)+df['intensity']*5\n",
        "\n",
        "df = df.astype(str).replace(r'\\.0$', '', regex=True)\n",
        "#df = df.loc[:, ~df.columns.str.contains('^Unnamed')]\n",
        "\n",
        "df.to_csv('revgtdR8.csv')\n",
        "\n",
        "df = pd.read_csv('revgtdR8.csv', parse_dates={\"date\": [\"imonth\", \"iday\", \"iyear\"]})\n",
        "\n",
        "\n",
        "\n",
        "\n",
        "df.to_csv(\"tempfr.csv\", index=False)\n",
        "df=pd.read_csv(\"tempfr.csv\",index_col='date')\n",
        "print(df)\n",
        "\n",
        "df.index = pd.to_datetime(df.index)\n",
        "\n",
        "df.index.to_period('M')\n",
        "\n",
        "\n",
        "\n",
        "df = df.reindex(df.index, fill_value=0)\n",
        "df = df.loc[:, ~df.columns.str.startswith('Unnamed')]\n",
        "df.to_csv(\"gtdtorev.csv\")\n",
        "\n",
        "print(df)\n",
        "\n",
        "\n",
        "\n",
        "\n"
      ],
      "metadata": {
        "colab": {
          "base_uri": "https://localhost:8080/"
        },
        "id": "ybNYb9u39xWW",
        "outputId": "756244bd-1890-416f-b181-48877c7935c7"
      },
      "execution_count": 11,
      "outputs": [
        {
          "output_type": "stream",
          "name": "stdout",
          "text": [
            "Drive already mounted at /content/drive; to attempt to forcibly remount, call drive.mount(\"/content/drive\", force_remount=True).\n"
          ]
        },
        {
          "output_type": "stream",
          "name": "stderr",
          "text": [
            "<ipython-input-11-8dd1f628402c>:23: FutureWarning: A value is trying to be set on a copy of a DataFrame or Series through chained assignment using an inplace method.\n",
            "The behavior will change in pandas 3.0. This inplace method will never work because the intermediate object on which we are setting values always behaves as a copy.\n",
            "\n",
            "For example, when doing 'df[col].method(value, inplace=True)', try using 'df.method({col: value}, inplace=True)' or df[col] = df[col].method(value) instead, to perform the operation inplace on the original object.\n",
            "\n",
            "\n",
            "  df['latitude'].fillna(df['latitude'].median(), inplace=True)\n",
            "<ipython-input-11-8dd1f628402c>:24: FutureWarning: A value is trying to be set on a copy of a DataFrame or Series through chained assignment using an inplace method.\n",
            "The behavior will change in pandas 3.0. This inplace method will never work because the intermediate object on which we are setting values always behaves as a copy.\n",
            "\n",
            "For example, when doing 'df[col].method(value, inplace=True)', try using 'df.method({col: value}, inplace=True)' or df[col] = df[col].method(value) instead, to perform the operation inplace on the original object.\n",
            "\n",
            "\n",
            "  df['longitude'].fillna(df['longitude'].median(), inplace=True)\n",
            "<ipython-input-11-8dd1f628402c>:43: FutureWarning: Support for nested sequences for 'parse_dates' in pd.read_csv is deprecated. Combine the desired columns with pd.to_datetime after parsing instead.\n",
            "  df = pd.read_csv('revgtdR8.csv', parse_dates={\"date\": [\"imonth\", \"iday\", \"iyear\"]})\n"
          ]
        },
        {
          "output_type": "stream",
          "name": "stdout",
          "text": [
            "            Unnamed: 0   latitude   longitude  intensity  type  cti\n",
            "date                                                               \n",
            "1970-07-02           0  18.456792  -69.951164          2     5   60\n",
            "1970-06-15           1  19.371887  -99.086624          1     5   55\n",
            "1970-01-15           2  15.478598  120.599741          2     5   60\n",
            "1970-01-15           3  37.997490   23.762728          1     5   55\n",
            "1970-01-15           4  33.580412  130.396361          1     5   55\n",
            "...                ...        ...         ...        ...   ...  ...\n",
            "2020-12-31      209701  15.305307   43.019490          1     5   55\n",
            "2020-12-31      209702  13.931337   43.478924          1     5   55\n",
            "2020-12-31      209703  51.342239   12.374772          1     5   55\n",
            "2020-12-31      209704  34.523842   69.140304          2     5   60\n",
            "2020-12-31      209705  13.864252   -1.161453          6     5   80\n",
            "\n",
            "[209706 rows x 6 columns]\n",
            "             latitude   longitude  intensity  type  cti\n",
            "date                                                   \n",
            "1970-07-02  18.456792  -69.951164          2     5   60\n",
            "1970-06-15  19.371887  -99.086624          1     5   55\n",
            "1970-01-15  15.478598  120.599741          2     5   60\n",
            "1970-01-15  37.997490   23.762728          1     5   55\n",
            "1970-01-15  33.580412  130.396361          1     5   55\n",
            "...               ...         ...        ...   ...  ...\n",
            "2020-12-31  15.305307   43.019490          1     5   55\n",
            "2020-12-31  13.931337   43.478924          1     5   55\n",
            "2020-12-31  51.342239   12.374772          1     5   55\n",
            "2020-12-31  34.523842   69.140304          2     5   60\n",
            "2020-12-31  13.864252   -1.161453          6     5   80\n",
            "\n",
            "[209706 rows x 5 columns]\n"
          ]
        }
      ]
    },
    {
      "cell_type": "code",
      "source": [
        "os.chdir('/content/drive/My Drive/tacactive')\n",
        "df= pd.read_csv('GeoNicfiltred_data.csv', encoding = \"ISO-8859-1\")\n",
        "df['latitude'].fillna(df['latitude'].median(), inplace=True)\n",
        "df['longitude'].fillna(df['longitude'].median(), inplace=True)\n",
        "df.loc[df['intensity'] == -99, 'intensity'] = 1\n",
        "df['type']=7\n",
        "df = df.loc[:, ~df.columns.str.startswith('Unnamed')]\n",
        "df.drop('country', axis=1, inplace=True)\n",
        "df['cti']=(df['type']*10)+df['intensity']*5\n",
        "print(df)\n",
        "df.to_csv(\"NicREADY.csv\")"
      ],
      "metadata": {
        "colab": {
          "base_uri": "https://localhost:8080/"
        },
        "id": "lxSoNy_eGeje",
        "outputId": "70431ac4-4626-4c5d-9f0c-647fff5d7858"
      },
      "execution_count": 22,
      "outputs": [
        {
          "output_type": "stream",
          "name": "stdout",
          "text": [
            "           date  type  intensity      latitude     longitude  cti\n",
            "0    1989-12-27     7          1  5.035054e+06  2.229901e+06   75\n",
            "1    1989-12-27     7          2  5.035054e+06  2.229901e+06   80\n",
            "2    1989-12-27     7          3  5.035054e+06  2.229901e+06   85\n",
            "3     1952-5-14     7          1  3.305811e+06  2.890531e+05   75\n",
            "4     1952-5-14     7          1  3.305811e+06  2.890531e+05   75\n",
            "..          ...   ...        ...           ...           ...  ...\n",
            "600    1946-3-1     7          2  4.739440e+06  2.529238e+06   80\n",
            "601    2011-6-6     7          2  1.813773e+06  3.326100e+06   80\n",
            "602    2011-6-6     7          2  1.813773e+06  3.326100e+06   80\n",
            "603    2011-6-6     7          2  1.813773e+06  3.326100e+06   80\n",
            "604    1994-2-3     7          2  1.796416e+06  5.292757e+06   80\n",
            "\n",
            "[605 rows x 6 columns]\n"
          ]
        },
        {
          "output_type": "stream",
          "name": "stderr",
          "text": [
            "<ipython-input-22-0146fb2f5b63>:3: FutureWarning: A value is trying to be set on a copy of a DataFrame or Series through chained assignment using an inplace method.\n",
            "The behavior will change in pandas 3.0. This inplace method will never work because the intermediate object on which we are setting values always behaves as a copy.\n",
            "\n",
            "For example, when doing 'df[col].method(value, inplace=True)', try using 'df.method({col: value}, inplace=True)' or df[col] = df[col].method(value) instead, to perform the operation inplace on the original object.\n",
            "\n",
            "\n",
            "  df['latitude'].fillna(df['latitude'].median(), inplace=True)\n",
            "<ipython-input-22-0146fb2f5b63>:4: FutureWarning: A value is trying to be set on a copy of a DataFrame or Series through chained assignment using an inplace method.\n",
            "The behavior will change in pandas 3.0. This inplace method will never work because the intermediate object on which we are setting values always behaves as a copy.\n",
            "\n",
            "For example, when doing 'df[col].method(value, inplace=True)', try using 'df.method({col: value}, inplace=True)' or df[col] = df[col].method(value) instead, to perform the operation inplace on the original object.\n",
            "\n",
            "\n",
            "  df['longitude'].fillna(df['longitude'].median(), inplace=True)\n"
          ]
        }
      ]
    },
    {
      "cell_type": "code",
      "source": [
        "os.chdir('/content/drive/My Drive/tacactive')\n",
        "df= pd.read_csv('RANDREADY.csv', encoding = \"ISO-8859-1\")\n",
        "df['latitude'].fillna(df['latitude'].median(), inplace=True)\n",
        "df['longitude'].fillna(df['longitude'].median(), inplace=True)\n",
        "df.loc[df['intensity'] == 0, 'intensity'] = 1\n",
        "df['type']=7\n",
        "df = df.loc[:, ~df.columns.str.startswith('Unnamed')]\n",
        "df.drop('description', axis=1, inplace=True)\n",
        "df['cti']=(df['type']*10)+df['intensity']*5\n",
        "print(df)\n",
        "df.to_csv(\"READYrand.csv\")"
      ],
      "metadata": {
        "colab": {
          "base_uri": "https://localhost:8080/"
        },
        "id": "aD5jc4kQLTzv",
        "outputId": "a23372ed-1230-4782-e6a1-0f4e8f5e32f7"
      },
      "execution_count": 24,
      "outputs": [
        {
          "output_type": "stream",
          "name": "stderr",
          "text": [
            "<ipython-input-24-09789fff9114>:3: FutureWarning: A value is trying to be set on a copy of a DataFrame or Series through chained assignment using an inplace method.\n",
            "The behavior will change in pandas 3.0. This inplace method will never work because the intermediate object on which we are setting values always behaves as a copy.\n",
            "\n",
            "For example, when doing 'df[col].method(value, inplace=True)', try using 'df.method({col: value}, inplace=True)' or df[col] = df[col].method(value) instead, to perform the operation inplace on the original object.\n",
            "\n",
            "\n",
            "  df['latitude'].fillna(df['latitude'].median(), inplace=True)\n",
            "<ipython-input-24-09789fff9114>:4: FutureWarning: A value is trying to be set on a copy of a DataFrame or Series through chained assignment using an inplace method.\n",
            "The behavior will change in pandas 3.0. This inplace method will never work because the intermediate object on which we are setting values always behaves as a copy.\n",
            "\n",
            "For example, when doing 'df[col].method(value, inplace=True)', try using 'df.method({col: value}, inplace=True)' or df[col] = df[col].method(value) instead, to perform the operation inplace on the original object.\n",
            "\n",
            "\n",
            "  df['longitude'].fillna(df['longitude'].median(), inplace=True)\n"
          ]
        },
        {
          "output_type": "stream",
          "name": "stdout",
          "text": [
            "       intensity  type      latitude     longitude transformed_date  cti\n",
            "0             10     7 -4.397998e+06 -7.282320e+06       09-02-1968  120\n",
            "1             10     7  3.356841e+06  3.884780e+06       12-02-1968  120\n",
            "2             10     7 -3.869154e+06 -6.233886e+06       13-02-1968  120\n",
            "3             10     7 -5.115959e+06 -7.977757e+06       20-02-1968  120\n",
            "4             10     7  3.356841e+06  3.884780e+06       21-02-1968  120\n",
            "...          ...   ...           ...           ...              ...  ...\n",
            "40124         20     7  3.356841e+06  3.884780e+06       25-12-2009  170\n",
            "40125         10     7  4.739440e+06  2.529238e+06       27-12-2009  120\n",
            "40126         10     7  4.398825e+05 -8.135222e+06       28-12-2009  120\n",
            "40127         10     7  5.517647e+06 -1.492578e+05       30-12-2009  120\n",
            "40128         10     7  3.356841e+06  3.884780e+06       31-12-2009  120\n",
            "\n",
            "[40129 rows x 6 columns]\n"
          ]
        }
      ]
    },
    {
      "cell_type": "code",
      "source": [
        "gtdtorev_df = pd.read_csv(\"gtdtorev.csv\")\n",
        "nicready_df = pd.read_csv(\"NicREADY.csv\")\n",
        "readyrand_df = pd.read_csv(\"READYrand.csv\")\n",
        "\n",
        "# Concatenate the DataFrames\n",
        "all_data = pd.concat([gtdtorev_df, nicready_df, readyrand_df], ignore_index=True)\n",
        "\n",
        "# Print and save the concatenated data\n",
        "print(all_data)\n",
        "all_data.to_csv('concatenated_data.csv', index=False)"
      ],
      "metadata": {
        "colab": {
          "base_uri": "https://localhost:8080/"
        },
        "id": "km1FUXCDObXJ",
        "outputId": "651228b2-effc-42f8-82b9-3d2b279e6c69"
      },
      "execution_count": 26,
      "outputs": [
        {
          "output_type": "stream",
          "name": "stdout",
          "text": [
            "              date      latitude     longitude  intensity  type  cti  \\\n",
            "0       1970-07-02  1.845679e+01 -6.995116e+01          2     5   60   \n",
            "1       1970-06-15  1.937189e+01 -9.908662e+01          1     5   55   \n",
            "2       1970-01-15  1.547860e+01  1.205997e+02          2     5   60   \n",
            "3       1970-01-15  3.799749e+01  2.376273e+01          1     5   55   \n",
            "4       1970-01-15  3.358041e+01  1.303964e+02          1     5   55   \n",
            "...            ...           ...           ...        ...   ...  ...   \n",
            "250435  25-12-2009  3.356841e+06  3.884780e+06         20     7  170   \n",
            "250436  27-12-2009  4.739440e+06  2.529238e+06         10     7  120   \n",
            "250437  28-12-2009  4.398825e+05 -8.135222e+06         10     7  120   \n",
            "250438  30-12-2009  5.517647e+06 -1.492578e+05         10     7  120   \n",
            "250439  31-12-2009  3.356841e+06  3.884780e+06         10     7  120   \n",
            "\n",
            "        Unnamed: 0  \n",
            "0              NaN  \n",
            "1              NaN  \n",
            "2              NaN  \n",
            "3              NaN  \n",
            "4              NaN  \n",
            "...            ...  \n",
            "250435     40124.0  \n",
            "250436     40125.0  \n",
            "250437     40126.0  \n",
            "250438     40127.0  \n",
            "250439     40128.0  \n",
            "\n",
            "[250440 rows x 7 columns]\n"
          ]
        }
      ]
    }
  ]
}